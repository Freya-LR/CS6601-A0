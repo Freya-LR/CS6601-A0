{
 "cells": [
  {
   "cell_type": "markdown",
   "metadata": {},
   "source": [
    "# Assignment 0: Stochastic Grammar"
   ]
  },
  {
   "cell_type": "markdown",
   "metadata": {},
   "source": [
    "This assignment is meant to give you an idea of your general workflow, that you will be following for the next assignments."
   ]
  },
  {
   "cell_type": "markdown",
   "metadata": {},
   "source": [
    "It'll help you get used to the systems, check your level of readiness for the course and weed out setup problems early on."
   ]
  },
  {
   "cell_type": "markdown",
   "metadata": {},
   "source": [
    "The assignment description will be provided in an iPython notebook, in which you can also write code. A good introduction to iPython can be found [here](http://opentechschool.github.io/python-data-intro/core/notebook.html). Udacity also has a mini-course that'll get you up to speed, find it [here](https://classroom.udacity.com/courses/ud1111)."
   ]
  },
  {
   "cell_type": "markdown",
   "metadata": {},
   "source": [
    "You will have an python file that you'll submit to our test server, Bonnie. The code that we will test against will be in this file. Any code in the iPython notebook is meaningless from the testing perspective."
   ]
  },
  {
   "cell_type": "markdown",
   "metadata": {},
   "source": [
    "It is generally helpful to code in the iPython notebook and copy your final code to the python file for testing on the server, however, you can adopt any style of working that suits you."
   ]
  },
  {
   "cell_type": "markdown",
   "metadata": {},
   "source": [
    "With that, welcome to CS 6601: Artificial Intelligence."
   ]
  },
  {
   "cell_type": "markdown",
   "metadata": {},
   "source": [
    "Note: You should ideally take no more than 15 minutes (with or without Google's help), to finish the following exercises. "
   ]
  },
  {
   "cell_type": "code",
   "execution_count": 1,
   "metadata": {
    "collapsed": true
   },
   "outputs": [],
   "source": [
    "from __future__ import division\n",
    "\n",
    "import math\n",
    "import random\n",
    "import pickle\n",
    "import sys\n",
    "import os\n",
    "\n",
    "import numpy as np\n",
    "\n",
    "import matplotlib.pyplot as plt"
   ]
  },
  {
   "cell_type": "markdown",
   "metadata": {},
   "source": [
    "## Stochastic Grammar"
   ]
  },
  {
   "cell_type": "markdown",
   "metadata": {},
   "source": [
    "A stochastic grammar (statistical grammar) is a grammar framework with a probabilistic notion of grammaticality. (From [Wikipedia](https://en.wikipedia.org/wiki/Stochastic_grammar))"
   ]
  },
  {
   "cell_type": "markdown",
   "metadata": {},
   "source": [
    "In this assignment, we will consider a very simplistic notion of stochastic grammar for the English language. We will simply model the probability distribution of the letters."
   ]
  },
  {
   "cell_type": "markdown",
   "metadata": {},
   "source": [
    "### Part 1: Data Structure"
   ]
  },
  {
   "cell_type": "markdown",
   "metadata": {},
   "source": [
    "We begin by creating a data structure to hold the modeled grammar. Ideally, we'd like a data strcutre that can give us the probability distribution of any given letter of the alphabet in `O(1)` time. To do this, we will count the frequency of every letter and divide it by the total count. "
   ]
  },
  {
   "cell_type": "markdown",
   "metadata": {},
   "source": [
    "We will split our program into functions for better abstraction. Here, we create a function that takes in a string and returns the data structure with the stochastic grammar. "
   ]
  },
  {
   "cell_type": "markdown",
   "metadata": {},
   "source": [
    "Note that our model considers only alphabets and is case insensitive. Also, remember that these are probabilities so they should sum upto 1."
   ]
  },
  {
   "cell_type": "markdown",
   "metadata": {},
   "source": [
    "Fill in the following function."
   ]
  },
  {
   "cell_type": "code",
   "execution_count": 2,
   "metadata": {
    "collapsed": true
   },
   "outputs": [],
   "source": [
    "def createStochasticGrammar(test_string):\n",
    "    pass"
   ]
  },
  {
   "cell_type": "markdown",
   "metadata": {},
   "source": [
    "We will provide a sample test case. There will be more test cases on the server."
   ]
  },
  {
   "cell_type": "code",
   "execution_count": 3,
   "metadata": {
    "collapsed": false
   },
   "outputs": [
    {
     "data": {
      "text/plain": [
       "{'a': 0.02857142857142857,\n",
       " 'b': 0.02857142857142857,\n",
       " 'c': 0.02857142857142857,\n",
       " 'd': 0.02857142857142857,\n",
       " 'e': 0.08571428571428572,\n",
       " 'f': 0.02857142857142857,\n",
       " 'g': 0.02857142857142857,\n",
       " 'h': 0.05714285714285714,\n",
       " 'i': 0.02857142857142857,\n",
       " 'j': 0.02857142857142857,\n",
       " 'k': 0.02857142857142857,\n",
       " 'l': 0.02857142857142857,\n",
       " 'm': 0.02857142857142857,\n",
       " 'n': 0.02857142857142857,\n",
       " 'o': 0.11428571428571428,\n",
       " 'p': 0.02857142857142857,\n",
       " 'q': 0.02857142857142857,\n",
       " 'r': 0.05714285714285714,\n",
       " 's': 0.02857142857142857,\n",
       " 't': 0.05714285714285714,\n",
       " 'u': 0.05714285714285714,\n",
       " 'v': 0.02857142857142857,\n",
       " 'w': 0.02857142857142857,\n",
       " 'x': 0.02857142857142857,\n",
       " 'y': 0.02857142857142857,\n",
       " 'z': 0.02857142857142857}"
      ]
     },
     "execution_count": 3,
     "metadata": {},
     "output_type": "execute_result"
    }
   ],
   "source": [
    "test_string=\"The quick brown fox jumps over the lazy dog.\"\n",
    "createStochasticGrammar(test_string)"
   ]
  },
  {
   "cell_type": "markdown",
   "metadata": {},
   "source": [
    "### Part 2: NumPy Arrays"
   ]
  },
  {
   "cell_type": "markdown",
   "metadata": {},
   "source": [
    "Now, the above data structure could accomodate any number of characters. However, since we're only going to be modeling English, we already know that the number of characters is going to be fixed at 26. This opens us up to creating contiguous memory data structures with the size known at compile time."
   ]
  },
  {
   "cell_type": "markdown",
   "metadata": {},
   "source": [
    "For much of the rest of this course, we will use NumPy arrays as our contiguous memory data structures (single and multi-dimensional arrays). NumPy provides a speedup when computing heavy matrix operations on these arrays. Plus it has a host of handy functionality built in. A comprehensive tutorial can be found [here](http://cs231n.github.io/python-numpy-tutorial/)."
   ]
  },
  {
   "cell_type": "markdown",
   "metadata": {},
   "source": [
    "Fill in the following function, calculating the probabilities as above, but returning a NumPy array instead. Note that index 0 of the array corresponds to 'a', index 1 to 'b' and so on. You will notice that in the case of contigous memory structures, we will need to initialize the variables. In our case, we can initialize it to zero since the absence of a letter will signify a probability of zero."
   ]
  },
  {
   "cell_type": "markdown",
   "metadata": {},
   "source": [
    "Another reason using NumPy is useful is because you can perform [vectorized](https://youtu.be/EEUXKG97YRw) operations. That gives you a speedup over non-vectorized code. Vectorization is not essential for this assignment but later on in the course, it'll become central to an assignment. "
   ]
  },
  {
   "cell_type": "code",
   "execution_count": 4,
   "metadata": {
    "collapsed": true
   },
   "outputs": [],
   "source": [
    "def createStochasticGrammarWithNumPyArray(test_string):\n",
    "    pass"
   ]
  },
  {
   "cell_type": "code",
   "execution_count": 5,
   "metadata": {
    "collapsed": false
   },
   "outputs": [
    {
     "data": {
      "text/plain": [
       "array([ 0.02857143,  0.02857143,  0.02857143,  0.02857143,  0.08571429,\n",
       "        0.02857143,  0.02857143,  0.05714286,  0.02857143,  0.02857143,\n",
       "        0.02857143,  0.02857143,  0.02857143,  0.02857143,  0.11428571,\n",
       "        0.02857143,  0.02857143,  0.05714286,  0.02857143,  0.05714286,\n",
       "        0.05714286,  0.02857143,  0.02857143,  0.02857143,  0.02857143,\n",
       "        0.02857143])"
      ]
     },
     "execution_count": 5,
     "metadata": {},
     "output_type": "execute_result"
    }
   ],
   "source": [
    "test_string=\"The quick brown fox jumps over the lazy dog.\"\n",
    "createStochasticGrammarWithNumPyArray(test_string)"
   ]
  },
  {
   "cell_type": "markdown",
   "metadata": {},
   "source": [
    "### Part 3: Scaling the Input"
   ]
  },
  {
   "cell_type": "markdown",
   "metadata": {},
   "source": [
    "In the previous parts, we've been operating on a toy string. In this section, we will scale up the size of the input. We will use the works of Nietzsche which can be found at this [link](https://s3.amazonaws.com/text-datasets/nietzsche.txt). However, we've downloaded and provided the file for you to use. It is in the main assignment folder named 'nietzsche.txt'."
   ]
  },
  {
   "cell_type": "markdown",
   "metadata": {},
   "source": [
    "Fill in the following function that reads the data from the file and returns the stochastic grammar modeled on it. You should use the functions you wrote above."
   ]
  },
  {
   "cell_type": "markdown",
   "metadata": {},
   "source": [
    "Return a tuple with the first object being the result of *createStochasticGrammar* and the second object being the result of *createStochasticGrammarWithNumPyArray* with the appropriate parameters passed to those functions."
   ]
  },
  {
   "cell_type": "code",
   "execution_count": 6,
   "metadata": {
    "collapsed": true
   },
   "outputs": [],
   "source": [
    "def getDataFromFile():\n",
    "    pass"
   ]
  },
  {
   "cell_type": "markdown",
   "metadata": {},
   "source": [
    "Copy your code to the python file and use the instructions in the README to submit. On the server, we will call and test all three methods."
   ]
  }
 ],
 "metadata": {
  "kernelspec": {
   "display_name": "Python 2",
   "language": "python",
   "name": "python2"
  },
  "language_info": {
   "codemirror_mode": {
    "name": "ipython",
    "version": 2
   },
   "file_extension": ".py",
   "mimetype": "text/x-python",
   "name": "python",
   "nbconvert_exporter": "python",
   "pygments_lexer": "ipython2",
   "version": "2.7.10"
  }
 },
 "nbformat": 4,
 "nbformat_minor": 1
}
